{
 "cells": [
  {
   "cell_type": "markdown",
   "metadata": {
    "colab_type": "text",
    "id": "S-Xd3LLIcLBw"
   },
   "source": [
    "# Stable Mariages\n",
    "\n",
    "For this workshop we'll implement a version of the **Nobel Prize-winning algorithm** for the stable marriage problem. It's called the [Gale-Shapley](https://en.wikipedia.org/wiki/Gale%E2%80%93Shapley_algorithm) algorithm AKA the \"Deferred Acceptance\" algorithm.\n",
    "\n",
    "The Gale Shapley algorithm solves what's called the **Stable Marriage** Problem. Here is the problem framed as marrying men and women: \n",
    "\n",
    "> Given $n$ men and $n$ women, where each person has ranked all members of the opposite sex in order of preference, marry the men and women together such that there are no two people of opposite sex who would both rather have each other than their current partners. When there are no such pairs of people, the set of marriages is deemed stable.\n",
    "\n",
    "This little model however is generally applied to more than marrying men and women. For example, it's the algorithm used to match newly graduated doctors with hospitals, and a variation on it matches kidney patients with organ donors in our hospital system.\n",
    "\n",
    "The algorithmic question is, given lists of preferences as input, can we find a stable marriage? Can we even guarantee a stable marriage will exist for any set of preferences? The answer to both questions is yes, and it uses an algorithm called deferred acceptance.\n",
    "\n",
    "Here is an informal description of the algorithm. It goes in rounds. In each round, each man “proposes” to the highest-preferred woman that has not yet rejected him. On the other side, each woman holds a reference to a man at all times. If a woman gets new proposals in a round, she immediately rejects every proposer except her most preferred, but does not accept that proposal. She “defers” the acceptance of the proposal until the very end.\n",
    "\n",
    "![](Gale-Shapley.gif)\n",
    "\n",
    "# Your Task\n",
    "\n",
    "Build a solution `gale_shapley(men, women) -> dict` Where the input is a list of suitors and a list of Suiteds with every one in these lists holding their lists of preferences. The output is a dictionary `suitor -> suited`\n",
    "\n",
    "Here is a possible way to design a solution:\n",
    "\n",
    "### Man Class\n",
    "\n",
    "The `Man(id, preference_list)` class holds the following attributes:\n",
    "\n",
    "- Its own ID (an `int`)\n",
    "\n",
    "- A list or array of IDs, which are ordered. So `preference_list[0]` is prefered to `preference_list[1]` and so on\n",
    "\n",
    "- A method `Suitor.preference()` which points to its current possible reference. It should start by pointing at `preference_list[0]` and every time the Suitor gets rejected in the algorithm, this should point to the next preference.\n",
    "\n",
    "### Woman Class\n",
    "\n",
    "The `Woman(id, preference_list)` class holds the following attributes:\n",
    "\n",
    "- Its own ID (an `int`)\n",
    "\n",
    "- A list or array of IDs, which are ordered. So `preference_list[0]` is prefered to `preference_list[1]` and so on\n",
    "\n",
    "- A set of current suitors\n",
    "\n",
    "- A method `Suited.reject()` which returns all current suitors except the most preferred one\n",
    "\n",
    "### The Stable Mariage Algorithm\n",
    "\n",
    "Takes in a list of men and women, loops over suitors trying to find a match until there aren't any unassigned suitors left. Here is the pseudocode for the algorithm:\n",
    "\n",
    "```\n",
    "algorithm stable_matching\n",
    "    Initialize all m ∈ M and w ∈ W to free\n",
    "    while ∃ free man m who still has a woman w to propose to do\n",
    "        w := first woman on m's list to whom m has not yet proposed\n",
    "        if w is free then\n",
    "            (m, w) become engaged\n",
    "        else some pair (m', w) already exists\n",
    "            if w prefers m to m' then\n",
    "                m' becomes free\n",
    "                (m, w) become engaged \n",
    "            else\n",
    "                (m', w) remain engaged\n",
    "            end if\n",
    "        end if\n",
    "    repeat\n",
    "```\n",
    "\n",
    "\n",
    "Here is some example code of a solution working:\n",
    "\n",
    "```\n",
    "men = [\n",
    "    Man(id=0, preference_list=[0,1,2,3]),\n",
    "    Man(id=1, preference_list=[2,3,0,1]),\n",
    "    Man(id=2, preference_list=[1,0,3,2]),\n",
    "    Man(id=3, preference_list=[3,2,1,0]),\n",
    "]\n",
    "\n",
    "women = [\n",
    "    Woman(id=0, preference_list=[0,1,2,3]),\n",
    "    Woman(id=1, preference_list=[2,3,0,1]),\n",
    "    Woman(id=2, preference_list=[1,0,3,2]),\n",
    "    Woman(id=3, preference_list=[3,2,1,0]),\n",
    "]\n",
    "\n",
    "stable_marriage(men, women)\n",
    "```\n",
    "\n",
    "output:\n",
    "\n",
    "```\n",
    "{0: 0, \n",
    " 2: 1, \n",
    " 1: 2, \n",
    " 3: 3}\n",
    "```"
   ]
  },
  {
   "cell_type": "code",
   "execution_count": 2,
   "metadata": {
    "colab": {},
    "colab_type": "code",
    "id": "tnfODNsiHMya"
   },
   "outputs": [],
   "source": [
    "class Man():\n",
    "    def __init__(self, id, preference_list):\n",
    "        '''\n",
    "        Stores in variable id, an id number for each man\n",
    "        Stores in a variable preference_list, the preference list of each man\n",
    "        Stores the index of the most prefered woman amongst the remaining women that have not rejected him.\n",
    "        '''\n",
    "        self.id = id\n",
    "        self.preference_list = preference_list\n",
    "        self.updated_preference = 0\n",
    "\n",
    "    def rejected(self):\n",
    "        '''\n",
    "        Once a man is rejected, the function updates the index to his next preference within the preference list\n",
    "        '''\n",
    "        self.updated_preference +=1\n",
    "        \n",
    "    def preference(self):\n",
    "        '''\n",
    "        Returns the man's current preference amongst all the remaining women that have not rejected him.\n",
    "        '''\n",
    "        return self.preference_list[self.updated_preference]\n",
    "    \n",
    "class Woman:\n",
    "    def __init__(self, id, preference_list):\n",
    "        '''\n",
    "        Stores in variable id, an id number for each woman\n",
    "        Stores in a variable preference_list, the preference list of each woman\n",
    "        Stores in an array all the current suitors for each woman\n",
    "        '''\n",
    "        self.id = id\n",
    "        self.preference_list = preference_list\n",
    "        self.current_suitors = []\n",
    "        \n",
    "def stable_marriage(men, women):\n",
    "    \n",
    "    stable_pairs = {}\n",
    "    free_men = men.copy()\n",
    "    updated_free_men = []\n",
    "    women = women.copy()\n",
    "    #Loop until each man and woman has found a match\n",
    "    while(len(free_men) >0):\n",
    "        all_men = men.copy()\n",
    "        updated_free_men = []\n",
    "        \n",
    "        #Loop for all free men\n",
    "        for man in free_men:\n",
    "            #select the given man's preference\n",
    "            w = women[man.preference()]\n",
    "            \n",
    "            #if the woman is not matched then match them together\n",
    "            if w.id not in stable_pairs.values():\n",
    "                stable_pairs[man.id] = w.id\n",
    "                w.current_suitors.insert(0, man.id)\n",
    "                \n",
    "            #else the woman is currently matched with another man\n",
    "            else:\n",
    "                #if the woman prefers the given man over her previous match then :\n",
    "                #delete previous match\n",
    "                #create new match with the givan man\n",
    "                #update the previous match's preference considering he was rejected\n",
    "                #store the previous match in an array to track available men after each iteration\n",
    "                #update the woman's current suitors\n",
    "                if w.preference_list.index(man.id) < w.preference_list.index(w.current_suitors[0]):\n",
    "                    del stable_pairs[w.current_suitors[0]]\n",
    "                    stable_pairs[man.id] = w.id\n",
    "                    all_men[w.current_suitors[0]].rejected()\n",
    "                    updated_free_men.append(w.current_suitors[0])\n",
    "                    w.current_suitors.insert(0, man.id)\n",
    "                else:\n",
    "                #else the given man is rejected and is stored in the array to track available men after each iteration\n",
    "                    updated_free_men.append(man.id)\n",
    "                    man.rejected()\n",
    "                    \n",
    "        #update the array free men            \n",
    "        free_men = [all_men[n]for n in updated_free_men]\n",
    "        \n",
    "    return stable_pairs"
   ]
  },
  {
   "cell_type": "code",
   "execution_count": 3,
   "metadata": {},
   "outputs": [
    {
     "data": {
      "text/plain": [
       "{0: 0, 1: 2, 2: 1, 3: 3}"
      ]
     },
     "execution_count": 3,
     "metadata": {},
     "output_type": "execute_result"
    }
   ],
   "source": [
    "men = [\n",
    "    Man(id=0, preference_list=[0,1,2,3]),\n",
    "    Man(id=1, preference_list=[2,3,0,1]),\n",
    "    Man(id=2, preference_list=[1,0,3,2]),\n",
    "    Man(id=3, preference_list=[3,2,1,0]),\n",
    "]\n",
    "\n",
    "women = [\n",
    "    Woman(id=0, preference_list=[0,1,2,3]),\n",
    "    Woman(id=1, preference_list=[2,3,0,1]),\n",
    "    Woman(id=2, preference_list=[1,0,3,2]),\n",
    "    Woman(id=3, preference_list=[3,2,1,0]),\n",
    "]\n",
    "\n",
    "stable_marriage(men, women)"
   ]
  },
  {
   "cell_type": "code",
   "execution_count": 4,
   "metadata": {},
   "outputs": [
    {
     "data": {
      "text/plain": [
       "{0: 0, 1: 2, 2: 1}"
      ]
     },
     "execution_count": 4,
     "metadata": {},
     "output_type": "execute_result"
    }
   ],
   "source": [
    "men = [\n",
    "    Man(id=0, preference_list=[0,1,2]),\n",
    "    Man(id=1, preference_list=[2,0,1]),\n",
    "    Man(id=2, preference_list=[1,0,2]),\n",
    "]\n",
    "\n",
    "women = [\n",
    "    Woman(id=0, preference_list=[0,1,2]),\n",
    "    Woman(id=1, preference_list=[2,0,1]),\n",
    "    Woman(id=2, preference_list=[1,0,2]),\n",
    "]\n",
    "\n",
    "stable_marriage(men, women)"
   ]
  },
  {
   "cell_type": "code",
   "execution_count": 5,
   "metadata": {},
   "outputs": [
    {
     "data": {
      "text/plain": [
       "{0: 0, 1: 2, 2: 1, 4: 3, 5: 4, 3: 5}"
      ]
     },
     "execution_count": 5,
     "metadata": {},
     "output_type": "execute_result"
    }
   ],
   "source": [
    "men = [\n",
    "    Man(id=0, preference_list=[0,4,1,5,2,3]),\n",
    "    Man(id=1, preference_list=[4,2,5,3,0,1]),\n",
    "    Man(id=2, preference_list=[4,1,0,3,2,5]),\n",
    "    Man(id=3, preference_list=[4,3,2,1,0,5]),\n",
    "    Man(id=4, preference_list=[4,2,3,1,0,5]),\n",
    "    Man(id=5, preference_list=[0,1,4,2,3,5]),\n",
    "]\n",
    "\n",
    "women = [\n",
    "    Woman(id=0, preference_list=[0,1,4,2,3,5]),\n",
    "    Woman(id=1, preference_list=[4,2,3,0,1,5]),\n",
    "    Woman(id=2, preference_list=[5,1,0,3,4,2]),\n",
    "    Woman(id=3, preference_list=[5,4,3,2,1,0]),\n",
    "    Woman(id=4, preference_list=[5,3,4,2,1,0]),\n",
    "    Woman(id=5, preference_list=[0,1,4,2,3,5]),\n",
    "]\n",
    "\n",
    "stable_marriage(men, women)"
   ]
  },
  {
   "cell_type": "code",
   "execution_count": 6,
   "metadata": {},
   "outputs": [
    {
     "data": {
      "text/plain": [
       "{0: 0, 3: 4, 1: 2, 2: 1, 4: 3}"
      ]
     },
     "execution_count": 6,
     "metadata": {},
     "output_type": "execute_result"
    }
   ],
   "source": [
    "men = [\n",
    "    Man(id=0, preference_list=[0,4,1,2,3]),\n",
    "    Man(id=1, preference_list=[4,2,3,0,1]),\n",
    "    Man(id=2, preference_list=[4,1,0,3,2]),\n",
    "    Man(id=3, preference_list=[4,3,2,1,0]),\n",
    "    Man(id=4, preference_list=[4,2,3,1,0]),\n",
    "]\n",
    "\n",
    "women = [\n",
    "    Woman(id=0, preference_list=[0,1,4,2,3]),\n",
    "    Woman(id=1, preference_list=[4,2,3,0,1]),\n",
    "    Woman(id=2, preference_list=[1,0,3,4,2]),\n",
    "    Woman(id=3, preference_list=[4,3,2,1,0]),\n",
    "    Woman(id=4, preference_list=[3,4,2,1,0]),\n",
    "]\n",
    "\n",
    "stable_marriage(men, women)"
   ]
  },
  {
   "cell_type": "code",
   "execution_count": null,
   "metadata": {},
   "outputs": [],
   "source": []
  },
  {
   "cell_type": "code",
   "execution_count": null,
   "metadata": {},
   "outputs": [],
   "source": []
  },
  {
   "cell_type": "code",
   "execution_count": null,
   "metadata": {},
   "outputs": [],
   "source": []
  }
 ],
 "metadata": {
  "colab": {
   "collapsed_sections": [],
   "name": "Workshop: Python Types and Classes.ipynb",
   "provenance": []
  },
  "kernelspec": {
   "display_name": "Python 3",
   "language": "python",
   "name": "python3"
  },
  "language_info": {
   "codemirror_mode": {
    "name": "ipython",
    "version": 3
   },
   "file_extension": ".py",
   "mimetype": "text/x-python",
   "name": "python",
   "nbconvert_exporter": "python",
   "pygments_lexer": "ipython3",
   "version": "3.8.3"
  }
 },
 "nbformat": 4,
 "nbformat_minor": 1
}
