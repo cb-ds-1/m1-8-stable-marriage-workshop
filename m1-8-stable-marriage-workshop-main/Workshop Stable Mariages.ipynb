{
 "cells": [
  {
   "cell_type": "markdown",
   "metadata": {
    "colab_type": "text",
    "id": "S-Xd3LLIcLBw"
   },
   "source": [
    "# Stable Mariages\n",
    "\n",
    "For this workshop we'll implement a version of the **Nobel Prize-winning algorithm** for the stable marriage problem. It's called the [Gale-Shapley](https://en.wikipedia.org/wiki/Gale%E2%80%93Shapley_algorithm) algorithm AKA the \"Deferred Acceptance\" algorithm.\n",
    "\n",
    "The Gale Shapley algorithm solves what's called the **Stable Marriage** Problem. Here is the problem framed as marrying men and women: \n",
    "\n",
    "> Given $n$ men and $n$ women, where each person has ranked all members of the opposite sex in order of preference, marry the men and women together such that there are no two people of opposite sex who would both rather have each other than their current partners. When there are no such pairs of people, the set of marriages is deemed stable.\n",
    "\n",
    "This little model however is generally applied to more than marrying men and women. For example, it's the algorithm used to match newly graduated doctors with hospitals, and a variation on it matches kidney patients with organ donors in our hospital system.\n",
    "\n",
    "The algorithmic question is, given lists of preferences as input, can we find a stable marriage? Can we even guarantee a stable marriage will exist for any set of preferences? The answer to both questions is yes, and it uses an algorithm called deferred acceptance.\n",
    "\n",
    "Here is an informal description of the algorithm. It goes in rounds. In each round, each man “proposes” to the highest-preferred woman that has not yet rejected him. On the other side, each woman holds a reference to a man at all times. If a woman gets new proposals in a round, she immediately rejects every proposer except her most preferred, but does not accept that proposal. She “defers” the acceptance of the proposal until the very end.\n",
    "\n",
    "![](Gale-Shapley.gif)\n",
    "\n",
    "# Your Task\n",
    "\n",
    "Build a solution `gale_shapley(men, women) -> dict` Where the input is a list of suitors and a list of Suiteds with every one in these lists holding their lists of preferences. The output is a dictionary `suitor -> suited`\n",
    "\n",
    "Here is a possible way to design a solution:\n",
    "\n",
    "### Man Class\n",
    "\n",
    "The `Man(id, preference_list)` class holds the following attributes:\n",
    "\n",
    "- Its own ID (an `int`)\n",
    "\n",
    "- A list or array of IDs, which are ordered. So `preference_list[0]` is prefered to `preference_list[1]` and so on\n",
    "\n",
    "- A method `Suitor.preference()` which points to its current possible reference. It should start by pointing at `preference_list[0]` and every time the Suitor gets rejected in the algorithm, this should point to the next preference.\n",
    "\n",
    "### Woman Class\n",
    "\n",
    "The `Woman(id, preference_list)` class holds the following attributes:\n",
    "\n",
    "- Its own ID (an `int`)\n",
    "\n",
    "- A list or array of IDs, which are ordered. So `preference_list[0]` is prefered to `preference_list[1]` and so on\n",
    "\n",
    "- A set of current suitors\n",
    "\n",
    "- A method `Suited.reject()` which returns all current suitors except the most preferred one\n",
    "\n",
    "### The Stable Mariage Algorithm\n",
    "\n",
    "Takes in a list of men and women, loops over suitors trying to find a match until there aren't any unassigned suitors left. Here is the pseudocode for the algorithm:\n",
    "\n",
    "```\n",
    "algorithm stable_matching\n",
    "    Initialize all m ∈ M and w ∈ W to free\n",
    "    while ∃ free man m who still has a woman w to propose to do\n",
    "        w := first woman on m's list to whom m has not yet proposed\n",
    "        if w is free then\n",
    "            (m, w) become engaged\n",
    "        else some pair (m', w) already exists\n",
    "            if w prefers m to m' then\n",
    "                m' becomes free\n",
    "                (m, w) become engaged \n",
    "            else\n",
    "                (m', w) remain engaged\n",
    "            end if\n",
    "        end if\n",
    "    repeat\n",
    "```\n",
    "\n",
    "\n",
    "Here is some example code of a solution working:\n",
    "\n",
    "```\n",
    "men = [\n",
    "    Man(id=0, preference_list=[0,1,2,3]),\n",
    "    Man(id=1, preference_list=[2,3,0,1]),\n",
    "    Man(id=2, preference_list=[1,0,3,2]),\n",
    "    Man(id=3, preference_list=[3,2,1,0]),\n",
    "]\n",
    "\n",
    "women = [\n",
    "    Woman(id=0, preference_list=[0,1,2,3]),\n",
    "    Woman(id=1, preference_list=[2,3,0,1]),\n",
    "    Woman(id=2, preference_list=[1,0,3,2]),\n",
    "    Woman(id=3, preference_list=[3,2,1,0]),\n",
    "]\n",
    "\n",
    "stable_marriage(men, women)\n",
    "```\n",
    "\n",
    "output:\n",
    "\n",
    "```\n",
    "{0: 0, \n",
    " 2: 1, \n",
    " 1: 2, \n",
    " 3: 3}\n",
    "```"
   ]
  },
  {
   "cell_type": "code",
   "execution_count": 1,
   "metadata": {
    "colab": {},
    "colab_type": "code",
    "id": "tnfODNsiHMya"
   },
   "outputs": [],
   "source": [
    "#Classes\n",
    "\n",
    "class Man():\n",
    "    \n",
    "    def __init__(self, id, preference_list):\n",
    "        \"\"\"initialize Man class\"\"\"\n",
    "        self.id = id #index of specific man or suitor in set of Man\n",
    "        self.preference_list = preference_list #contains the man's ith most preferred woman\n",
    "        self.rejections = 0 #num rejection is also index of next option\n",
    "        #The number of rejections the man has seen so far and also\n",
    "        #the index of the woman that the man is currently proposing to.\n",
    "    \n",
    "    def preference(self):\n",
    "        return self.preference_list[self.rejections]\n",
    "    \n",
    "    def __repr__(self):\n",
    "        return repr(self.id)\n",
    "    \n",
    "    \n",
    "class Woman():\n",
    "    \n",
    "    def __init__(self, id, preference_list):\n",
    "        \"\"\"initalize Woman class\"\"\"\n",
    "        self.id = id\n",
    "        self.preference_list = preference_list\n",
    "        self.held = None #currently held suitor\n",
    "        self.current_men = set() #list of men currently proposing to woman\n",
    "    \n",
    "    def reject(self):\n",
    "        \"\"\"\n",
    "        Accepts no inputs and returns a list\n",
    "        of rejected suitors while updateing the woman's\n",
    "        state to hold onto her preferred suitor\n",
    "        \"\"\"\n",
    "        if len(self.current_men) == 0:\n",
    "            return set()\n",
    "        if self.held is not None:\n",
    "            self.current_men.add(self.held)\n",
    "        \n",
    "        self.held = min(self.current_men, key=lambda man: #min finds the Man that appears 1st in her pref list\n",
    "                        self.preference_list.index(man.id))\n",
    "        rejected = self.current_men - set([self.held])\n",
    "        self.current_men = set()\n",
    "        return rejected\n",
    "        \n",
    "    def __repr__(self):\n",
    "        return repr(self.id)"
   ]
  },
  {
   "cell_type": "code",
   "execution_count": 2,
   "metadata": {},
   "outputs": [],
   "source": [
    "def stable_marriage(men,women):\n",
    "    \"\"\"\n",
    "    Algorith for finding a stable marriage. \n",
    "    Follows the deferred acceptance algorigthm.\n",
    "    \"\"\"\n",
    "    unassigned = set(men) #set of unmarried men. All men are unassigned at first.\n",
    "\n",
    "    #each iteration of loop is a round of the algorithm:\n",
    "    #The men are added to the current_men list of their next most preferred woman\n",
    "    while len(unassigned) > 0: #while men are still unmarried\n",
    "        for man in unassigned:\n",
    "            women[man.preference()].current_men.add(man)\n",
    "        unassigned = set()\n",
    "        \n",
    "        for woman in women:\n",
    "            unassigned |= woman.reject() #|= is basically += but for union: unassigned = unassigned | woman.reject() \n",
    "            #we combine unassigned and woman reject\n",
    "        for man in unassigned:\n",
    "            man.rejections += 1 #Men rejection count increase by one and returned to unassigned men pool\n",
    "    return dict([(woman.held, woman) for woman in women]) #return a dict of marriaged\n",
    "#done once all the women are paired with a man"
   ]
  },
  {
   "cell_type": "code",
   "execution_count": 3,
   "metadata": {},
   "outputs": [],
   "source": [
    "men = [\n",
    "    Man(id=0, preference_list=[0,1,2,3]),\n",
    "    Man(id=1, preference_list=[2,3,0,1]),\n",
    "    Man(id=2, preference_list=[1,0,3,2]),\n",
    "    Man(id=3, preference_list=[3,2,1,0]),\n",
    "]\n",
    "\n",
    "women = [\n",
    "    Woman(id=0, preference_list=[0,1,2,3]),\n",
    "    Woman(id=1, preference_list=[2,3,0,1]),\n",
    "    Woman(id=2, preference_list=[1,0,3,2]),\n",
    "    Woman(id=3, preference_list=[3,2,1,0]),\n",
    "]"
   ]
  },
  {
   "cell_type": "code",
   "execution_count": 4,
   "metadata": {},
   "outputs": [
    {
     "data": {
      "text/plain": [
       "{0: 0, 2: 1, 1: 2, 3: 3}"
      ]
     },
     "execution_count": 4,
     "metadata": {},
     "output_type": "execute_result"
    }
   ],
   "source": [
    "stable_marriage(men,women)"
   ]
  },
  {
   "cell_type": "code",
   "execution_count": 5,
   "metadata": {},
   "outputs": [
    {
     "data": {
      "text/plain": [
       "{0: 0, 2: 1, 1: 2, 4: 3, 3: 4}"
      ]
     },
     "execution_count": 5,
     "metadata": {},
     "output_type": "execute_result"
    }
   ],
   "source": [
    "men = [\n",
    "    Man(id=0, preference_list=[0,4,1,2,3]),\n",
    "    Man(id=1, preference_list=[4,2,3,0,1]),\n",
    "    Man(id=2, preference_list=[4,1,0,3,2]),\n",
    "    Man(id=3, preference_list=[4,3,2,1,0]),\n",
    "    Man(id=4, preference_list=[4,2,3,1,0]),\n",
    "]\n",
    "\n",
    "women = [\n",
    "    Woman(id=0, preference_list=[0,1,4,2,3]),\n",
    "    Woman(id=1, preference_list=[4,2,3,0,1]),\n",
    "    Woman(id=2, preference_list=[1,0,3,4,2]),\n",
    "    Woman(id=3, preference_list=[4,3,2,1,0]),\n",
    "    Woman(id=4, preference_list=[3,4,2,1,0]),\n",
    "]\n",
    "\n",
    "stable_marriage(men, women)"
   ]
  },
  {
   "cell_type": "code",
   "execution_count": 6,
   "metadata": {},
   "outputs": [
    {
     "data": {
      "text/plain": [
       "{3: 0, 5: 1, 1: 2, 0: 3, 4: 4, 2: 5}"
      ]
     },
     "execution_count": 6,
     "metadata": {},
     "output_type": "execute_result"
    }
   ],
   "source": [
    "men = [Man(0, [3,5,4,2,1,0]), Man(1, [2,3,1,0,4,5]),\n",
    "       Man(2, [5,2,1,0,3,4]), Man(3, [0,1,2,3,4,5]),\n",
    "       Man(4, [4,5,1,2,0,3]), Man(5, [0,1,2,3,4,5])]\n",
    "\n",
    "women = [Woman(0, [3,5,4,2,1,0]), Woman(1, [2,3,1,0,4,5]),\n",
    "         Woman(2, [5,2,1,0,3,4]), Woman(3, [0,1,2,3,4,5]),\n",
    "         Woman(4, [4,5,1,2,0,3]), Woman(5, [0,1,2,3,4,5])]\n",
    "\n",
    "stable_marriage(men, women)\n"
   ]
  },
  {
   "cell_type": "code",
   "execution_count": null,
   "metadata": {},
   "outputs": [],
   "source": []
  }
 ],
 "metadata": {
  "colab": {
   "collapsed_sections": [],
   "name": "Workshop: Python Types and Classes.ipynb",
   "provenance": []
  },
  "kernelspec": {
   "display_name": "Python 3",
   "language": "python",
   "name": "python3"
  },
  "language_info": {
   "codemirror_mode": {
    "name": "ipython",
    "version": 3
   },
   "file_extension": ".py",
   "mimetype": "text/x-python",
   "name": "python",
   "nbconvert_exporter": "python",
   "pygments_lexer": "ipython3",
   "version": "3.8.3"
  }
 },
 "nbformat": 4,
 "nbformat_minor": 1
}
